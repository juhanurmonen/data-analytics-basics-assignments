{
 "cells": [
  {
   "cell_type": "markdown",
   "id": "2d1fb8ce",
   "metadata": {},
   "source": [
    "# Basics of Data Analytics with Python"
   ]
  },
  {
   "cell_type": "markdown",
   "id": "e82c749c",
   "metadata": {},
   "source": [
    "## Assignment 3/4"
   ]
  },
  {
   "cell_type": "markdown",
   "id": "8e2354e3",
   "metadata": {},
   "source": [
    "## Time series and time series forecasting"
   ]
  },
  {
   "cell_type": "markdown",
   "id": "75ae8de9",
   "metadata": {},
   "source": [
    "Notice that there are two parts in this assignment. The first one concentrates on time series and the second one on forecasting."
   ]
  },
  {
   "cell_type": "markdown",
   "id": "3eb97b84",
   "metadata": {},
   "source": [
    "### Assignment 3 &ndash; part one"
   ]
  },
  {
   "cell_type": "markdown",
   "id": "e3bb40fb",
   "metadata": {},
   "source": [
    "Choose two stocks and study their historical values. Analyze them in sensible ways as we have learned during the course. "
   ]
  },
  {
   "cell_type": "markdown",
   "id": "f4d57bbf",
   "metadata": {},
   "source": [
    "Return your assignment in the Jupyter Notebook file format. Remember to add as much as reasonable your own **comments, documentation and interpretation** as part of your analysis.\n",
    "\n",
    "Historical values of stocks can be found in the Yahoo Finance service as described in the course notes."
   ]
  },
  {
   "cell_type": "markdown",
   "id": "a49e346c",
   "metadata": {},
   "source": [
    "### Assignment 3 &ndash; part two"
   ]
  },
  {
   "cell_type": "markdown",
   "id": "4f222608",
   "metadata": {},
   "source": [
    "Pick one of the following time series, or alternatively, you can use your own data appropriate to the theme."
   ]
  },
  {
   "cell_type": "markdown",
   "id": "a63d8c5f",
   "metadata": {},
   "source": [
    "### Time series"
   ]
  },
  {
   "cell_type": "markdown",
   "id": "5a903c8f",
   "metadata": {},
   "source": [
    "All the following time series contain both trend and seasonal variation."
   ]
  },
  {
   "cell_type": "markdown",
   "id": "4da487f7",
   "metadata": {},
   "source": [
    "**The monthly levels of CO2 in the air**. This is a smooth time series for which precise predictions can be calculated.\n",
    "\n",
    "- Source: https://www.esrl.noaa.gov/gmd/webdata/ccgg/trends/co2/co2_mm_mlo.txt\n",
    "\n",
    "The data can be opened in a dataframe by following the steps explained on this page:\n",
    "\n",
    "https://nbviewer.org/github/taanila/aikasarjat/blob/main/open_CO2.ipynb\n",
    "\n",
    "<!--\n",
    "> df=pd.read_excel('https://myy.haaga-helia.fi/~menetelmat/Data-analytiikka/Teaching/CO2_en.xlsx') <br>\n",
    "> df.index = pd.to_datetime(df['Month'], format = \"%Y-%m\") <br>\n",
    "> df=df.drop('Month', axis=1) <br>\n",
    "> df.head()\n",
    "\n",
    "-->\n",
    "\n",
    "<hr />"
   ]
  },
  {
   "cell_type": "markdown",
   "id": "c171e918",
   "metadata": {},
   "source": [
    "**Numbers of airline passengers**. This time series has been used as an example how to apply several prediction methods.  \n",
    "\n",
    "Source: https://www.kaggle.com/rakannimer/air-passengers \n",
    "\n",
    "The data can be opened in a dataframe by following the next steps:\n",
    "\n",
    "> df=pd.read_csv('https://myy.haaga-helia.fi/~menetelmat/Data-analytiikka/Teaching/AirPassengers.csv') <br>\n",
    "> df.index = pd.to_datetime(df['Month'], format = \"%Y-%m\") <br>\n",
    "> df=df.drop('Month', axis = 1) <br>\n",
    "> df.head() <br>\n",
    "\n",
    "<hr />"
   ]
  },
  {
   "cell_type": "markdown",
   "id": "914d3d4c",
   "metadata": {},
   "source": [
    "**Beer production volumes**\n",
    "\n",
    "Source: https://www.kaggle.com/shenba/time-series-datasets \n",
    "\n",
    "The data can be opened in a dataframe by following the next steps:\n",
    "\n",
    "> df = pd.read_csv('https://myy.haaga-helia.fi/~menetelmat/Data-analytiikka/Teaching/beer.csv') <br>\n",
    "> df.index = pd.to_datetime(df['Month'], format = \"%Y-%m\") <br>\n",
    "> df=df.drop('Month', axis = 1) <br>\n",
    "> df.head() <br>\n",
    "\n",
    "<hr />"
   ]
  },
  {
   "cell_type": "markdown",
   "id": "b5ed789a",
   "metadata": {},
   "source": [
    "**Electricity production**\n",
    "\n",
    "Source: https://www.kaggle.com/shenba/time-series-datasets \n",
    "\n",
    "The data can be opened in a dataframe by following the next steps:\n",
    "\n",
    "> df = pd.read_csv('https://myy.haaga-helia.fi/~menetelmat/Data-analytiikka/Teaching/Electric_Production.csv') <br>\n",
    "> df.index = pd.to_datetime(df['DATE'], format = '%m/%d/%Y') <br>\n",
    "> df=df.drop('DATE', axis = 1) <br>\n",
    "> df.head() <br>\n",
    "\n",
    "<hr />"
   ]
  }
 ],
 "metadata": {
  "kernelspec": {
   "display_name": "Python 3 (ipykernel)",
   "language": "python",
   "name": "python3"
  },
  "language_info": {
   "codemirror_mode": {
    "name": "ipython",
    "version": 3
   },
   "file_extension": ".py",
   "mimetype": "text/x-python",
   "name": "python",
   "nbconvert_exporter": "python",
   "pygments_lexer": "ipython3",
   "version": "3.9.11"
  }
 },
 "nbformat": 4,
 "nbformat_minor": 5
}
