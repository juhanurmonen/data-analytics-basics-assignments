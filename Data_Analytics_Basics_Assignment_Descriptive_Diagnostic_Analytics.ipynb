{
 "cells": [
  {
   "cell_type": "markdown",
   "id": "2d1fb8ce",
   "metadata": {},
   "source": [
    "# Basics of Data Analytics with Python"
   ]
  },
  {
   "cell_type": "markdown",
   "id": "e82c749c",
   "metadata": {},
   "source": [
    "## Assignment: Descriptive and Diagnostic Analytics"
   ]
  },
  {
   "cell_type": "markdown",
   "id": "ed6c69f6",
   "metadata": {},
   "source": [
    "Notice that there are two parts in this assignment. The first one concentrates on Descriptive Analytics and the second one on Diagnostic Analytics."
   ]
  },
  {
   "cell_type": "markdown",
   "id": "ee46e626",
   "metadata": {},
   "source": [
    "## Assignment Part 1: Descriptive Analytics"
   ]
  },
  {
   "cell_type": "markdown",
   "id": "b5ef3fa8",
   "metadata": {},
   "source": [
    "Choose a data sources below or a source of your own. With the data you chose, practise  in various ways preparing and modifying data for analysis, that is, study your data, alter it and apply filtering. In combination with those, use descriptive analysis in order to describe your data. Particularly, include frequency tables, classified distributions and statistical numbers in your analysis."
   ]
  },
  {
   "cell_type": "markdown",
   "id": "b85bfcf4",
   "metadata": {},
   "source": [
    "**Pose good questions to your data!** "
   ]
  },
  {
   "cell_type": "markdown",
   "id": "2466318f",
   "metadata": {},
   "source": [
    "Return your assignment in the Jupyter Notebook file format. Remember to add as mauch as reasonable your own **comments, documentation and interpretation** of your calculations."
   ]
  },
  {
   "cell_type": "markdown",
   "id": "290c2eb6",
   "metadata": {},
   "source": [
    "**titanic.xlsx**\n",
    "\n",
    "List of passengers on the notorious ship Titanic. Variable descriptions can be found by opening the file in Excel.\n",
    "\n",
    "This data can be asked, e.g., following questions. How many of the passengers on board were women, how many of them were men? What was the passengers' age distribution? How big proportion of passengers survived? How did passengers divide into different cabins? What are the results by different sexes? And so on, and so forth. <hr />"
   ]
  },
  {
   "cell_type": "markdown",
   "id": "ec1d992d",
   "metadata": {},
   "source": [
    "**municipal_key_figures.xlsx**\n",
    "\n",
    "Source: <a href=\"https://www.stat.fi/\">Statistic Finland</a>, Municipal key figures\n",
    "\n",
    "This data contains only numerical variables. It applies well for performing different filterings (such as, ten biggest municipals by population) and calculating classified distributions and statistical numbers. <hr />"
   ]
  },
  {
   "cell_type": "markdown",
   "id": "5fda43d5",
   "metadata": {},
   "source": [
    "**sales_data_sample.csv**\n",
    "\n",
    "Source: https://www.kaggle.com/kyanyoga/sample-sales-data\n",
    "\n",
    "In this data such a character encoding is used that in order to open it an additional encoding parameter is needed: \n",
    "\n",
    "df = pd.read_csv('sales_data_sample.csv', encoding = 'cp1252')\n",
    "\n",
    "This data produces good frequency tables, e.g., from variables STATUS, PRODUCTLINE, COUTRY, DEALSIZE. In order to describe sales (SALES) classified distribution and statistical numbers can be used. \n",
    "\n",
    "<hr />"
   ]
  },
  {
   "cell_type": "markdown",
   "id": "73c41ace",
   "metadata": {},
   "source": [
    "**employee.csv**\n",
    "\n",
    "Source: https://www.kaggle.com/pavansubhasht/ibm-hr-analytics-attrition-dataset\n",
    "\n",
    "In this data you find both numerical (e.g., Age, MonthlyIncome, TotalWorkingYears, YearsAtCompany) and categorical (e.g., Education, EnvironmentSatisfaction, JobInvolvement, JobSatisfaction, PerformanceRating, RelationshipSatisfaction, WorkLifeBalance) variables.\n",
    "\n",
    "<hr />"
   ]
  },
  {
   "cell_type": "markdown",
   "id": "c81551a7",
   "metadata": {},
   "source": [
    "**fundreport.xlsx**\n",
    "\n",
    "Source: <a href=\"https://www.sijoitustutkimus.fi/en/\">Investment Research Finland</a>\n",
    "\n",
    "This data contains information about investment funds in December 2020. Variable descriptions can be viewed by opening the file in Excel. Choose this data only if you have previous knowledge about investing and its terminology.\n",
    "\n",
    "Categorical variable RR2009_class tells what type of investments the fund concentrates on. From numerical variables 120M_return, 60M_return, 36M_return, 12M_return, 6M_return, 3M_return, 1M_return, 12M_volatility classified distributions and statistical numbers can be calculated. <hr />"
   ]
  },
  {
   "cell_type": "markdown",
   "id": "027b3da9",
   "metadata": {},
   "source": [
    "**accidents2022.xlsx**\n",
    "\n",
    "Source: https://www.avoindata.fi/data/en_GB/dataset/tieliikenneonnettomuudet \n",
    "\n",
    "This data contains information about traffic accidents in 2020. Data itself is not that big (less than 10 000 rows) but text valued variables require a lot of memory and make data processing slow.\n",
    "\n",
    "In order to see all the columns, give the command\n",
    "\n",
    "<center>\n",
    "    <strong>pd.options.display.max_columns = None</strong>.\n",
    "</center>\n",
    "\n",
    "It is **not** recommended to used the command\n",
    "\n",
    "<center>\n",
    "    <strong>pd.options.display.max_rows = None</strong>.\n",
    "</center>\n",
    "\n",
    "In case you use the function _info_, it is recommended to be written in the format **df.info(verbose=True)** to see all the variables.\n",
    "\n",
    "There are several categorical variables in the data. They give you interesting frequency tables. Viewpoints for descriptive analytics might be:\n",
    "\n",
    "- Number of accidents in different municipalities ('Maakunta')\n",
    "- Distribution of accidents by seriousness ('Vakavuus')\n",
    "- What kind of weather it has been when the accident occured ('Sää')\n",
    "- What kind of lighting it has been when the accident occured ('Valoisuus')\n",
    "- What kind of situation it has been when the accident occured ('Onnettomuusluokka')\n",
    "- Which weekdays accidents happen the most? ('Viikonpäivä')\n",
    "- How often has surface played a role in accidents? ('Päällyste')\n",
    "\n",
    "<hr />"
   ]
  },
  {
   "cell_type": "markdown",
   "id": "8e2354e3",
   "metadata": {},
   "source": [
    "## Assignment Part 2: Diagnostic analytics"
   ]
  },
  {
   "cell_type": "markdown",
   "id": "e77fd081",
   "metadata": {},
   "source": [
    "Choose a data sources below or a sources of your own. With the data you chose, practise  in various ways methods of diagnostic analytics.\n",
    "Particularly, include cross-tabulations, comparing statistical numbers and correlations in your analysis."
   ]
  },
  {
   "cell_type": "markdown",
   "id": "62420b97",
   "metadata": {},
   "source": [
    "**Pose good questions to your data!** "
   ]
  },
  {
   "cell_type": "markdown",
   "id": "6664aca9",
   "metadata": {},
   "source": [
    "Return your assignment in the Jupyter Notebook file format. Remember to add as mauch as reasonable your own **comments, documentation and interpretation** of your calculations. "
   ]
  },
  {
   "cell_type": "markdown",
   "id": "16e9175c",
   "metadata": {},
   "source": [
    "### Data sources"
   ]
  },
  {
   "cell_type": "markdown",
   "id": "e5f2634c",
   "metadata": {},
   "source": [
    "**titanic.xlsx**\n",
    "\n",
    "List of passengers on board the notorious ship Titanic. The descriptions of the variables can be found by opening the file in Excel.\n",
    "\n",
    "This data can be asked, e.g., following questions. \n",
    "- Was there a difference between survival percentages of women and men? \n",
    "- Did a cabin type play a role in survival? \n",
    "- Did the age distribution of the survived differ from the age distribution of the deceased?\n",
    "\n",
    "<hr />"
   ]
  },
  {
   "cell_type": "markdown",
   "id": "4737d2dc",
   "metadata": {},
   "source": [
    "**municipal_key_figures.xlsx**\n",
    "\n",
    "Source: <a href=\"https://www.stat.fi/\">Statistic Finland</a>, Municipal key figures\n",
    "\n",
    "This data contains only numerical variables. There must be many interesting correlations between them to be discovered.\n",
    "\n",
    "<hr />"
   ]
  },
  {
   "cell_type": "markdown",
   "id": "8d776826",
   "metadata": {},
   "source": [
    "**sales_data_sample.csv**\n",
    "\n",
    "Source: https://www.kaggle.com/kyanyoga/sample-sales-data\n",
    "\n",
    "In this data such a character encoding is used that in order to open it an additional encoding parameter is needed: \n",
    "\n",
    "df = pd.read_csv('sales_data_sample.csv', encoding = 'cp1252')\n",
    "\n",
    "Interesting cross-tabulations can be done from the categorical variables STATUS, PRODUCTLINE, COUTRY, DEALSIZE. Statistical numbers of sales (SALES) can be compared in different groups of categorical variables.\n",
    "\n",
    "<hr />"
   ]
  },
  {
   "cell_type": "markdown",
   "id": "aa953c12",
   "metadata": {},
   "source": [
    "**employee.csv**\n",
    "\n",
    "Source: https://www.kaggle.com/pavansubhasht/ibm-hr-analytics-attrition-dataset\n",
    "\n",
    "In this data you find both numerical (e.g., Age, MonthlyIncome, TotalWorkingYears, YearsAtCompany) and categorical (e.g., Education, EnvironmentSatisfaction, JobInvolvement, JobSatisfaction, PerformanceRating, RelationshipSatisfaction, WorkLifeBalance) variables.\n",
    "\n",
    "<hr />"
   ]
  },
  {
   "cell_type": "markdown",
   "id": "6f858f6a",
   "metadata": {},
   "source": [
    "**fundreport.xlsx**\n",
    "\n",
    "Source: <a href=\"https://www.sijoitustutkimus.fi/en/\">Investment Research Finland</a>\n",
    "\n",
    "This data contains information about investment funds in December 2020. Variable descriptions can be viewed by opening the file in Excel. Choose this data only if you have previous knowledge about investing and its terminology.\n",
    "\n",
    "Categorical variable RR2009_class tells what type of investments the fund concentrates on. It would be interesting to compare the returns (120M_return, 60M_return, 36M_return, 12M_return, 6M_return, 3M_return, 1M_return) of different investment types, and also the risk (12M_volatility) of different investment types. One may also wonder whether management and custody fees correlate with returns.\n",
    "\n",
    "<hr />"
   ]
  },
  {
   "cell_type": "markdown",
   "id": "21cb2e0e",
   "metadata": {},
   "source": [
    "**accidents2022.xlsx**\n",
    "\n",
    "Source: https://www.avoindata.fi/data/en_GB/dataset/tieliikenneonnettomuudet \n",
    "\n",
    "This data contains information about traffic accidents in 2020. Data itself is not big (11 336 rows) but text valued variables require a lot of memory and make data processing slow.\n",
    "\n",
    "In order to see all the columns, give the command\n",
    "\n",
    "<center>\n",
    "    <strong>pd.options.display.max_columns = None</strong>.\n",
    "</center>\n",
    "\n",
    "It is, however, **not** recommended to use the command\n",
    "\n",
    "<center>\n",
    "    <strong>pd.options.display.max_rows = None</strong>.\n",
    "</center>\n",
    "\n",
    "If one wishes to use the function _info_ it might be a good idea to give it with the following parameter **df.info(verbose=True)**  to see all the variables.\n",
    "\n",
    "There are several categorical variables in the data. They give you interesting cross-tabbingss. Viewpoints for diagnostic analytics could be:\n",
    "\n",
    "- Number of accidents in different municipalities ('Maakunta')\n",
    "- Distribution of accidents by seriousness ('Vakavuus')\n",
    "- What kind of weather it has been when the accident occured ('Sää')\n",
    "- What kind of lighting it has been when the accident occured ('Valoisuus')\n",
    "- What kind of situation it has been when the accident occured ('Onnettomuusluokka')\n",
    "- Which weekdays accidents happen the most? ('Viikonpäivä')\n",
    "- How often has surface played a role in accidents? ('Päällyste')\n",
    "\n",
    "<hr />"
   ]
  }
 ],
 "metadata": {
  "kernelspec": {
   "display_name": "Python 3 (ipykernel)",
   "language": "python",
   "name": "python3"
  },
  "language_info": {
   "codemirror_mode": {
    "name": "ipython",
    "version": 3
   },
   "file_extension": ".py",
   "mimetype": "text/x-python",
   "name": "python",
   "nbconvert_exporter": "python",
   "pygments_lexer": "ipython3",
   "version": "3.10.12"
  }
 },
 "nbformat": 4,
 "nbformat_minor": 5
}
