{
 "cells": [
  {
   "cell_type": "markdown",
   "id": "2d1fb8ce",
   "metadata": {},
   "source": [
    "# Basics of Data Analytics with Python"
   ]
  },
  {
   "cell_type": "markdown",
   "id": "e82c749c",
   "metadata": {},
   "source": [
    "## Assignment One: Descriptive and Diagnostic Analytics"
   ]
  },
  {
   "cell_type": "markdown",
   "id": "ed6c69f6",
   "metadata": {},
   "source": [
    "The purpose of Assignment 1 is to apply methods of descriptive and diagnostic analytics to data sets of your choice. You can use the data sets from this course's data package mentioned below or data sets related to your own work or interests."
   ]
  },
  {
   "cell_type": "markdown",
   "id": "e8255124-aa49-49f6-a5cc-f657d1636b1d",
   "metadata": {},
   "source": [
    "Use at least two different datasets and make sure you include both categorical and quantitative variables in your analysis."
   ]
  },
  {
   "cell_type": "markdown",
   "id": "b5ef3fa8",
   "metadata": {},
   "source": [
    "First, with the data you chose, practise  in various ways preparing and modifying data for analysis, that is, study your data, explore and alter it and apply filtering. In combination with those, use descriptive and diagnostic analysis in order to analyze your data sets. Particularly, include frequency tables, classified distributions, statistical numbers, cross-tabulations statistical significance testing and correlations in your analysis. Use graphical representations for illustration."
   ]
  },
  {
   "cell_type": "markdown",
   "id": "b85bfcf4",
   "metadata": {},
   "source": [
    "**Pose good questions to your data!** "
   ]
  },
  {
   "cell_type": "markdown",
   "id": "2466318f",
   "metadata": {},
   "source": [
    "Return your assignment as link to a Colab notebook. Use the choice *Anyone with link* when creating the link under the Share menu of the notebook. Remember to add as much as reasonable your own **comments, documentation and interpretation** of your calculations."
   ]
  },
  {
   "cell_type": "markdown",
   "id": "48084915-ca7f-4905-afa2-8e8ab4aa4468",
   "metadata": {},
   "source": [
    "### Data sets for Assignment"
   ]
  },
  {
   "cell_type": "markdown",
   "id": "290c2eb6",
   "metadata": {},
   "source": [
    "**titanic.xlsx**\n",
    "\n",
    "List of passengers on the notorious ship Titanic. Variable descriptions can be found by opening the file in Excel.\n",
    "\n",
    "This data can be asked, e.g., following questions. How many of the passengers on board were women, how many of them were men? What was the passengers' age distribution? What proportion of passengers survived? How were passengers divided into different cabins? Was there a difference in survival rates between men and women? Did cabin class affect survival? Did the age distribution of the survivors differ from the age distribution of the deceased? And so on, and so forth. <hr />"
   ]
  },
  {
   "cell_type": "markdown",
   "id": "ec1d992d",
   "metadata": {},
   "source": [
    "**municipal_key_figures.xlsx**\n",
    "\n",
    "Source: <a href=\"https://www.stat.fi/\">Statistic Finland</a>, Municipal key figures\n",
    "\n",
    "This data contains only numerical variables. It applies well for performing different filterings (such as, ten biggest municipals by population) and calculating classified distributions and statistical numbers. <hr />"
   ]
  },
  {
   "cell_type": "markdown",
   "id": "5fda43d5",
   "metadata": {},
   "source": [
    "**sales_data_sample.csv**\n",
    "\n",
    "Source: https://www.kaggle.com/kyanyoga/sample-sales-data\n",
    "\n",
    "This data set includes both categorical (frequency tables, cross tabulations) and quantitative variables (classified distributions, statistical indicators).\n",
    "\n",
    "The data is stored using the ISO-8859-1 character encoding (this not the Python default), so you need to specify the character encoding when opening: \n",
    "\n",
    "df = pd.read_csv('sales_data_sample.csv', encoding = 'ISO-8859-1')\n",
    "\n",
    "This data produces good frequency tables, e.g., from variables STATUS, PRODUCTLINE, COUTRY, DEALSIZE. In order to describe sales (SALES) classified distribution and statistical numbers can be used. \n",
    "\n",
    "<hr />"
   ]
  },
  {
   "cell_type": "markdown",
   "id": "73c41ace",
   "metadata": {},
   "source": [
    "**employee.csv**\n",
    "\n",
    "Source: https://www.kaggle.com/pavansubhasht/ibm-hr-analytics-attrition-dataset\n",
    "\n",
    "In this data you find both numerical (e.g., Age, MonthlyIncome, TotalWorkingYears, YearsAtCompany) and categorical (e.g., Education, EnvironmentSatisfaction, JobInvolvement, JobSatisfaction, PerformanceRating, RelationshipSatisfaction, WorkLifeBalance) variables.\n",
    "\n",
    "<hr />"
   ]
  },
  {
   "cell_type": "markdown",
   "id": "c81551a7",
   "metadata": {},
   "source": [
    "**fundreport.xlsx**\n",
    "\n",
    "Source: <a href=\"https://www.sijoitustutkimus.fi/en/\">Investment Research Finland</a>\n",
    "\n",
    "This data contains information about investment funds in December 2020. Variable descriptions can be viewed by opening the file in Excel. Choose this data only if you have previous knowledge about investing and its terminology.\n",
    "\n",
    "Categorical variable RR2009_class tells what type of investments the fund concentrates on. From numerical variables 120M_return, 60M_return, 36M_return, 12M_return, 6M_return, 3M_return, 1M_return, 12M_volatility classified distributions and statistical numbers can be calculated. <hr />"
   ]
  },
  {
   "cell_type": "markdown",
   "id": "027b3da9",
   "metadata": {},
   "source": [
    "**accidents2022.xlsx**\n",
    "\n",
    "Source: https://ava.vaylapilvi.fi/ava/Tie/Tieliikenneonnettomuudet\n",
    "\n",
    "This data contains information about traffic accidents in 2022. Data itself is not that big (less than 10 000 rows) but text valued variables require a lot of memory and make data processing slow.\n",
    "\n",
    "In order to see all the columns, give the command\n",
    "\n",
    "<center>\n",
    "    <strong>pd.options.display.max_columns = None</strong>.\n",
    "</center>\n",
    "\n",
    "It is **not** recommended to used the command\n",
    "\n",
    "<center>\n",
    "    <strong>pd.options.display.max_rows = None</strong>.\n",
    "</center>\n",
    "\n",
    "In case you use the function _info_, it is recommended to be written in the format **df.info(verbose=True)** to see all the variables.\n",
    "\n",
    "There are several categorical variables in the data. They give you interesting frequency tables. Viewpoints for descriptive analytics might be:\n",
    "\n",
    "- Number of accidents in different municipalities ('Maakunta')\n",
    "- Distribution of accidents by seriousness ('Vakavuus')\n",
    "- What kind of weather it has been when the accident occured ('Sää')\n",
    "- What kind of lighting it has been when the accident occured ('Valoisuus')\n",
    "- What kind of situation it has been when the accident occured ('Onnettomuusluokka')\n",
    "- Which weekdays accidents happen the most? ('Viikonpäivä')\n",
    "- How often has surface played a role in accidents? ('Päällyste')\n",
    "\n",
    "<hr />"
   ]
  },
  {
   "cell_type": "code",
   "execution_count": 1,
   "id": "5f1ab731",
   "metadata": {},
   "outputs": [
    {
     "name": "stdout",
     "output_type": "stream",
     "text": [
      "Last modified 2024-04-17 08:55 by Juha Nurmonen\n"
     ]
    }
   ],
   "source": [
    "import datetime\n",
    "print(f'Last modified {datetime.datetime.now():%Y-%m-%d %H:%M} by Juha Nurmonen')"
   ]
  }
 ],
 "metadata": {
  "kernelspec": {
   "display_name": "Python 3 (ipykernel)",
   "language": "python",
   "name": "python3"
  },
  "language_info": {
   "codemirror_mode": {
    "name": "ipython",
    "version": 3
   },
   "file_extension": ".py",
   "mimetype": "text/x-python",
   "name": "python",
   "nbconvert_exporter": "python",
   "pygments_lexer": "ipython3",
   "version": "3.11.5"
  }
 },
 "nbformat": 4,
 "nbformat_minor": 5
}
