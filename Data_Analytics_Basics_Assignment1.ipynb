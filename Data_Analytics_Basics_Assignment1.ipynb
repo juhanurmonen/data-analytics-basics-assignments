{
 "cells": [
  {
   "cell_type": "markdown",
   "id": "2d1fb8ce",
   "metadata": {},
   "source": [
    "# Basics of Data Analytics with Python"
   ]
  },
  {
   "cell_type": "markdown",
   "id": "e82c749c",
   "metadata": {},
   "source": [
    "## Assignment 1/4"
   ]
  },
  {
   "cell_type": "markdown",
   "id": "8e2354e3",
   "metadata": {},
   "source": [
    "## Modifying and preparing data for analysis and\n",
    "## Descriptive analytics"
   ]
  },
  {
   "cell_type": "markdown",
   "id": "4a43da45",
   "metadata": {},
   "source": [
    "Choose two data sources below or two sources of your own, or one each. With the data you chose, practise  in various ways preparing and modifying data for analysis, that is, study your data, alter it and apply filtering. In combination with those, use descriptive analysis in order to describe your data. Particularly, include frequency tables, classified distributions and statistical numbers in your analysis."
   ]
  },
  {
   "cell_type": "markdown",
   "id": "08869ba3",
   "metadata": {},
   "source": [
    "**Pose good questions to your data!** "
   ]
  },
  {
   "cell_type": "markdown",
   "id": "86d65bfc",
   "metadata": {},
   "source": [
    "Return your assignment in the Jupyter Notebook file format. Remember to add as mauch as reasonable your own **comments, documentation and interpretation** of your calculations. In code cells comment rows start with the character #. A cell can also be changed into the text cell: Cell --> Cell Type --> Markdown."
   ]
  },
  {
   "cell_type": "markdown",
   "id": "5ecaeb68",
   "metadata": {},
   "source": [
    "### Data sources"
   ]
  },
  {
   "cell_type": "markdown",
   "id": "426a685b",
   "metadata": {},
   "source": [
    "- http://myy.haaga-helia.fi/~menetelmat/Data-analytiikka/Teaching/titanic.xlsx\n",
    "\n",
    "List of passengers on the notorious ship Titanic. Variable descriptions can be found by opening the file in Excel.\n",
    "\n",
    "This data can be asked, e.g., following questions. How many of the passengers on board were women, how many of them were men? What was the passengers' age distribution? How big proportion of passengers survived? How did passengers divide into different cabins? What are the results by different sexes? And so on, and so forth. <hr />"
   ]
  },
  {
   "cell_type": "markdown",
   "id": "7e7bea41",
   "metadata": {},
   "source": [
    "- http://myy.haaga-helia.fi/~menetelmat/Data-analytiikka/Teaching/municipal_key_figures.xlsx\n",
    "\n",
    "Source: <a href=\"https://www.stat.fi/\">Statistic Finland</a>, Municipal key figures\n",
    "\n",
    "This data contains only numerical variables. It applies well for performing different filterings (such as, ten biggest municipals by population) and calculating classified distributions and statistical numbers. <hr />"
   ]
  },
  {
   "cell_type": "markdown",
   "id": "be3708f0",
   "metadata": {},
   "source": [
    "- http://myy.haaga-helia.fi/~menetelmat/Data-analytiikka/Teaching/sales_data_sample.csv\n",
    "\n",
    "Source: https://www.kaggle.com/kyanyoga/sample-sales-data\n",
    "\n",
    "In this data such a character encoding is used that in order to open it an additional encoding parameter is needed: \n",
    "\n",
    "df = pd.read_csv('http://myy.haaga-helia.fi/~menetelmat/Data-analytiikka/Teaching/sales_data_sample.csv', encoding = 'cp1252')\n",
    "\n",
    "This data produces good frequency tables, e.g., from variables STATUS, PRODUCTLINE, COUTRY, DEALSIZE. In order to describe sales (SALES) classified distribution and statistical numberscan be used. \n",
    "\n",
    "<hr />"
   ]
  },
  {
   "cell_type": "markdown",
   "id": "df970728",
   "metadata": {},
   "source": [
    "- http://myy.haaga-helia.fi/~menetelmat/Data-analytiikka/Teaching/employee.csv\n",
    "\n",
    "Source: https://www.kaggle.com/pavansubhasht/ibm-hr-analytics-attrition-dataset\n",
    "\n",
    "In this data you find both numerical (e.g., Age, MonthlyIncome, TotalWorkingYears, YearsAtCompany) and categorical (e.g., Education, EnvironmentSatisfaction, JobInvolvement, JobSatisfaction, PerformanceRating, RelationshipSatisfaction, WorkLifeBalance) variables.\n",
    "\n",
    "<hr />"
   ]
  },
  {
   "cell_type": "markdown",
   "id": "f12c8c01",
   "metadata": {},
   "source": [
    "- http://myy.haaga-helia.fi/~menetelmat/Data-analytiikka/Teaching/fundreport.xlsx\n",
    "\n",
    "Source: <a href=\"https://www.sijoitustutkimus.fi/en/\">Investment Research Finland</a>\n",
    "\n",
    "This data contains information about investment funds in December 2020. Variable descriptions can be viewed by opening the file in Excel. Choose this data only if you have previous knowledge about investing and its terminology.\n",
    "\n",
    "Categorical variable RR2009_class tells what type of investments the fund concentrates on. From numerical variables 120M_return, 60M_return, 36M_return, 12M_return, 6M_return, 3M_return, 1M_return, 12M_volatility classified distributions and statistical numbers can be calculated. <hr />"
   ]
  },
  {
   "cell_type": "markdown",
   "id": "bb62e360",
   "metadata": {},
   "source": [
    "- http://myy.haaga-helia.fi/~menetelmat/Data-analytiikka/Teaching/accidents2020.xlsx\n",
    "\n",
    "Source: https://www.avoindata.fi/data/en_GB/dataset/tieliikenneonnettomuudet/resource/801c9c43-235d-4498-b890-b19959e5f31d \n",
    "\n",
    "This data contains information about traffic accidents in 2020. Data itself is not big (11 336 rows) but text valued variables require a lot of memory and make data processing slow.\n",
    "\n",
    "In order to see all the columns, give the command\n",
    "\n",
    "<center>\n",
    "    <strong>pd.options.display.max_columns = None</strong>.\n",
    "</center>\n",
    "\n",
    "It is **not** recommended to used the command\n",
    "\n",
    "<center>\n",
    "    <strong>pd.options.display.max_rows = None</strong>.\n",
    "</center>\n",
    "\n",
    "There are several categorical variables in the data. They give you interesting frequency tables. Viewpoints for descriptive analytics could be:\n",
    "\n",
    "- Number of accidents in different municipalities ('Maakuntsel')\n",
    "- Distribution of accidents by seriousness ('Vakavuus')\n",
    "- What kind of weather it has been when the accident occured ('Sääsel')\n",
    "- What kind of lighting it has been when the accident occured ('Valsel')\n",
    "- What kind of situation it has been when the accident occured ('Onlksel')\n",
    "- Which weekdays accidents happen the most? ('Vkpv')\n",
    "- How often alcohol has played a role in accidents? ('Alkoholi')\n",
    "\n",
    "<hr />"
   ]
  }
 ],
 "metadata": {
  "kernelspec": {
   "display_name": "Python 3",
   "language": "python",
   "name": "python3"
  },
  "language_info": {
   "codemirror_mode": {
    "name": "ipython",
    "version": 3
   },
   "file_extension": ".py",
   "mimetype": "text/x-python",
   "name": "python",
   "nbconvert_exporter": "python",
   "pygments_lexer": "ipython3",
   "version": "3.7.11"
  }
 },
 "nbformat": 4,
 "nbformat_minor": 5
}
