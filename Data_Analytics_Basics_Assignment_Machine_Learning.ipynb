{
 "cells": [
  {
   "cell_type": "markdown",
   "id": "2d1fb8ce",
   "metadata": {},
   "source": [
    "# Basics of Data Analytics with Python"
   ]
  },
  {
   "cell_type": "markdown",
   "id": "e82c749c",
   "metadata": {},
   "source": [
    "## Assignments about Machine Learning"
   ]
  },
  {
   "cell_type": "markdown",
   "id": "8e2354e3",
   "metadata": {},
   "source": [
    "## Regression and classification"
   ]
  },
  {
   "cell_type": "markdown",
   "id": "672abf5e",
   "metadata": {},
   "source": [
    "Notice that there are two assignment about this topic. The first one concentrates on regression models and the second one on classification models."
   ]
  },
  {
   "cell_type": "markdown",
   "id": "3eb97b84",
   "metadata": {},
   "source": [
    "### Assignment Five &ndash; Regression Models"
   ]
  },
  {
   "cell_type": "markdown",
   "id": "e3bb40fb",
   "metadata": {},
   "source": [
    "Choose one of the following data sources, or alternatively, use your own sensible data source. Select independent variables (explain why you chose those one), create a regression model and evaluate how good your model is. You should compare at least  linear regression, random forest and gradient boosting methods applied to regression model."
   ]
  },
  {
   "cell_type": "markdown",
   "id": "ee562ae9-0ca2-478e-a498-d23ff6ba6c2b",
   "metadata": {},
   "source": [
    "Return your assignment as link to your Google Colab notebook. Use the choice *Anyone with link* when creating the link under the Share menu of the notebook. Remember to add as much as reasonable your own **comments, documentation and interpretation** of your calculations."
   ]
  },
  {
   "cell_type": "markdown",
   "id": "f4d57bbf",
   "metadata": {},
   "source": [
    "### Data sources"
   ]
  },
  {
   "cell_type": "markdown",
   "id": "ec4e53c6",
   "metadata": {},
   "source": [
    "**Factors that effect on the strength of concrete (regression)**\n",
    "\n",
    "Source: https://archive.ics.uci.edu/ml/datasets/Concrete+Compressive+Strength\n",
    "\n",
    "This data can be opened by reading it in a dataframe as follows:\n",
    "\n",
    "df = pd.read_excel('Concrete_Data.xlsx')\n",
    "\n",
    "The variable 'Concrete compressive strength(MPa, megapascals)' can be chosen to be the dependent one.\n",
    "\n",
    "<u>Hint</u>. The coefficient of determination increases considerably if you use the logarithm of age:\n",
    "\n",
    "import numpy as np\n",
    "\n",
    "df['age2'] = np.log(df['age'])\n",
    "\n",
    "<hr />"
   ]
  },
  {
   "cell_type": "markdown",
   "id": "df30faf1",
   "metadata": {},
   "source": [
    "**Factors that effect on energy efficiency (regression)** \n",
    "\n",
    "Source: https://archive.ics.uci.edu/ml/datasets/Energy+efficiency\n",
    "\n",
    "This data can be opened by reading it in a dataframe as follows:\n",
    "\n",
    "df = pd.read_excel('ENB2012_data.xlsx')\n",
    "\n",
    "The variables Y1 or Y2 can be chosen to be the dependent ones.\n",
    "\n",
    "<hr />"
   ]
  },
  {
   "cell_type": "markdown",
   "id": "6bf94381",
   "metadata": {},
   "source": [
    "**Municipality key figures data from assignment one (regression)**\n",
    "\n",
    "In case the file is missing from your data package, download it [here](https://haagahelia-my.sharepoint.com/:x:/g/personal/nurju_haaga-helia_fi/EUiDkcg0qOdBr42d0KU5fjMB2jVTA__UZ75ubBCVdhqa2w?e=ezp7aR) and add it to the package on you Google Drive with the name _municipalities.xlsx_.\n",
    "\n",
    "The data can then be opend in a dataframe as follows:\n",
    "\n",
    "df = pd.read_excel('municipalities.xlsx')\n",
    "\n",
    "Source: <a href=\"https://www.stat.fi/\">Statistic Finland</a>, Municipal key figures\n",
    "\n",
    "Use the variable 'Social and health care activities, total, operating net costs, EUR per capita, 2020' as the dependent variable and select a few independent variable so that the coefficient of determination is as high as possible. \n",
    "<hr />"
   ]
  },
  {
   "cell_type": "markdown",
   "id": "a49e346c",
   "metadata": {},
   "source": [
    "### Assignment Six &ndash; Classification Models"
   ]
  },
  {
   "cell_type": "markdown",
   "id": "7df95f83",
   "metadata": {},
   "source": [
    "Pick one of the following data sources, or alternatively, you can use your own sensible data. \n",
    "\n",
    "You should compare at least classification methods logistic regression, decision trees, random forest and gradient boosting."
   ]
  },
  {
   "cell_type": "markdown",
   "id": "a7306f0a",
   "metadata": {},
   "source": [
    "### Data sources"
   ]
  },
  {
   "cell_type": "markdown",
   "id": "4da487f7",
   "metadata": {},
   "source": [
    "**Classifying wines according to grape variety (classification)**\n",
    "\n",
    "In the data there are a few wine types made from different grape variety. Try out how different classification models recognize the grape variety (Y) from which the wine is made of, based on properties of the wine. \n",
    "\n",
    "- Source: https://archive.ics.uci.edu/ml/datasets/Wine\n",
    "\n",
    "The data can be opened in a dataframe as follows:\n",
    "\n",
    "df = pd.read_excel('wine.xlsx')\n",
    "\n",
    "\n",
    "<hr />"
   ]
  },
  {
   "cell_type": "markdown",
   "id": "c171e918",
   "metadata": {},
   "source": [
    "**Recognizing buying customers (classification)**\n",
    "\n",
    "Is it possible to recognize customers who buy a certain product just by using background variables which don't seem to have anything to do with buying? \n",
    "\n",
    "Here the variable Obs no. has to be dropped out before calculating the model. The model may become better if you use standardized salary before calculating the model:\n",
    "\n",
    "df['Income2']=(df['Income']-df['Income'].mean())/df['Income'].std()\n",
    "\n",
    "The data can be opened in a dataframe as follows:\n",
    "\n",
    "df = pd.read_excel('KidCreative.xlsx')\n",
    "\n",
    "\n",
    "<hr />"
   ]
  },
  {
   "cell_type": "markdown",
   "id": "914d3d4c",
   "metadata": {},
   "source": [
    "**Employee data from assignments one and two (classification)**\n",
    "\n",
    "The earlier data about employees can also be applied for classification models.\n",
    "\n",
    "Source: https://www.kaggle.com/pavansubhasht/ibm-hr-analytics-attrition-dataset \n",
    "\n",
    "The data can be opened in a dataframe from the following source:\n",
    "\n",
    "df = pd.read_csv('employee.csv')\n",
    "\n",
    "\n",
    "<hr />"
   ]
  },
  {
   "cell_type": "code",
   "execution_count": 18,
   "id": "271ab10b",
   "metadata": {},
   "outputs": [
    {
     "name": "stdout",
     "output_type": "stream",
     "text": [
      "Last modified 2025-05-06 16:59 by Juha Nurmonen\n"
     ]
    }
   ],
   "source": [
    "import datetime\n",
    "import pytz\n",
    "\n",
    "tz = pytz.timezone('Europe/Helsinki')\n",
    "print(f'Last modified {tz.localize(datetime.datetime.now()):%Y-%m-%d %H:%M} by Juha Nurmonen')"
   ]
  }
 ],
 "metadata": {
  "kernelspec": {
   "display_name": "Python [conda env:base] *",
   "language": "python",
   "name": "conda-base-py"
  },
  "language_info": {
   "codemirror_mode": {
    "name": "ipython",
    "version": 3
   },
   "file_extension": ".py",
   "mimetype": "text/x-python",
   "name": "python",
   "nbconvert_exporter": "python",
   "pygments_lexer": "ipython3",
   "version": "3.11.7"
  }
 },
 "nbformat": 4,
 "nbformat_minor": 5
}
