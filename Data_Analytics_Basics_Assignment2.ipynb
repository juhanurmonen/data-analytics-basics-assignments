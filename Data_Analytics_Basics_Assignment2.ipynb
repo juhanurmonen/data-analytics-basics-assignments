{
 "cells": [
  {
   "cell_type": "markdown",
   "id": "2d1fb8ce",
   "metadata": {},
   "source": [
    "# Basics of Data Analytics with Python"
   ]
  },
  {
   "cell_type": "markdown",
   "id": "e82c749c",
   "metadata": {},
   "source": [
    "## Assignment 2/4"
   ]
  },
  {
   "cell_type": "markdown",
   "id": "8e2354e3",
   "metadata": {},
   "source": [
    "## Diagnostic analytics"
   ]
  },
  {
   "cell_type": "markdown",
   "id": "e77fd081",
   "metadata": {},
   "source": [
    "Choose two data sources below or two sources of your own, or one each. With the data you chose, practise  in various ways methods of diagnostic analytics.\n",
    "Particularly, include cross-tabulations, comparing statistical numbers and correlations in your analysis."
   ]
  },
  {
   "cell_type": "markdown",
   "id": "62420b97",
   "metadata": {},
   "source": [
    "**Pose good questions to your data!** "
   ]
  },
  {
   "cell_type": "markdown",
   "id": "6664aca9",
   "metadata": {},
   "source": [
    "Return your assignment in the Jupyter Notebook file format. Remember to add as mauch as reasonable your own **comments, documentation and interpretation** of your calculations. In code cells comment rows start with the character #. A cell can also be changed into the text cell: Cell --> Cell Type --> Markdown."
   ]
  },
  {
   "cell_type": "markdown",
   "id": "16e9175c",
   "metadata": {},
   "source": [
    "### Data sources"
   ]
  },
  {
   "cell_type": "markdown",
   "id": "e5f2634c",
   "metadata": {},
   "source": [
    "- http://myy.haaga-helia.fi/~menetelmat/Data-analytiikka/Teaching/titanic.xlsx\n",
    "\n",
    "List of passengers on board the notorious ship Titanic. The descriptions of the variables can be found by opening the file in Excel.\n",
    "\n",
    "This data can be asked, e.g., following questions. \n",
    "- Was there a difference between survival percentages of women and men? \n",
    "- Did a cabin type play a role in survival? \n",
    "- Did the age distribution of the survived differ from the age distribution of the deceased?\n",
    "\n",
    "<hr />"
   ]
  },
  {
   "cell_type": "markdown",
   "id": "4737d2dc",
   "metadata": {},
   "source": [
    "- http://myy.haaga-helia.fi/~menetelmat/Data-analytiikka/Teaching/municipal_key_figures.xlsx\n",
    "\n",
    "Source: <a href=\"https://www.stat.fi/\">Statistic Finland</a>, Municipal key figures\n",
    "\n",
    "This data contains only numerical variables. There must be many interesting correlations between them to be discovered.\n",
    "\n",
    "<hr />"
   ]
  },
  {
   "cell_type": "markdown",
   "id": "8d776826",
   "metadata": {},
   "source": [
    "- http://myy.haaga-helia.fi/~menetelmat/Data-analytiikka/Teaching/sales_data_sample.csv\n",
    "\n",
    "Source: https://www.kaggle.com/kyanyoga/sample-sales-data\n",
    "\n",
    "In this data such a character encoding is used that in order to open it an additional encoding parameter is needed: \n",
    "\n",
    "df = pd.read_csv('http://myy.haaga-helia.fi/~menetelmat/Data-analytiikka/Teaching/sales_data_sample.csv', encoding = 'cp1252')\n",
    "\n",
    "Interesting cross-tabulations can be done from the categorical variables STATUS, PRODUCTLINE, COUTRY, DEALSIZE. Statistical numbers of sales (SALES) can be compared in different groups of categorical variables.\n",
    "\n",
    "<hr />"
   ]
  },
  {
   "cell_type": "markdown",
   "id": "aa953c12",
   "metadata": {},
   "source": [
    "- http://myy.haaga-helia.fi/~menetelmat/Data-analytiikka/Teaching/employee.csv\n",
    "\n",
    "Source: https://www.kaggle.com/pavansubhasht/ibm-hr-analytics-attrition-dataset\n",
    "\n",
    "In this data you find both numerical (e.g., Age, MonthlyIncome, TotalWorkingYears, YearsAtCompany) and categorical (e.g., Education, EnvironmentSatisfaction, JobInvolvement, JobSatisfaction, PerformanceRating, RelationshipSatisfaction, WorkLifeBalance) variables.\n",
    "\n",
    "<hr />"
   ]
  },
  {
   "cell_type": "markdown",
   "id": "6f858f6a",
   "metadata": {},
   "source": [
    "- http://myy.haaga-helia.fi/~menetelmat/Data-analytiikka/Teaching/fundreport.xlsx\n",
    "\n",
    "Source: <a href=\"https://www.sijoitustutkimus.fi/en/\">Investment Research Finland</a>\n",
    "\n",
    "This data contains information about investment funds in December 2020. Variable descriptions can be viewed by opening the file in Excel. Choose this data only if you have previous knowledge about investing and its terminology.\n",
    "\n",
    "Categorical variable RR2009_class tells what type of investments the fund concentrates on. It would be interesting to compare the returns (120M_return, 60M_return, 36M_return, 12M_return, 6M_return, 3M_return, 1M_return) of different investment types, and also the risk (12M_volatility) of different investment types. One may also wonder whether management and custody fees correlate with returns.\n",
    "\n",
    "<hr />"
   ]
  },
  {
   "cell_type": "markdown",
   "id": "21cb2e0e",
   "metadata": {},
   "source": [
    "- http://myy.haaga-helia.fi/~menetelmat/Data-analytiikka/Teaching/accidents2020.xlsx\n",
    "\n",
    "Source: https://www.avoindata.fi/data/en_GB/dataset/tieliikenneonnettomuudet/resource/801c9c43-235d-4498-b890-b19959e5f31d \n",
    "\n",
    "This data contains information about traffic accidents in 2020. Data itself is not big (11 336 rows) but text valued variables require a lot of memory and make data processing slow.\n",
    "\n",
    "In order to see all the columns, give the command\n",
    "\n",
    "<center>\n",
    "    <strong>pd.options.display.max_columns = None</strong>.\n",
    "</center>\n",
    "\n",
    "It is, however, **not** recommended to use the command\n",
    "\n",
    "<center>\n",
    "    <strong>pd.options.display.max_rows = None</strong>.\n",
    "</center>\n",
    "\n",
    "There are several categorical variables in the data. They give you interesting cross-tabbingss. Viewpoints for diagnostic analytics could be:\n",
    "\n",
    "- Municipality of the accident ('Maakuntsel')\n",
    "- Seriousness of the accident ('Vakavuus')\n",
    "- Weather when the accident happened ('Sääsel')\n",
    "- Lighting when the accident happened ('Valsel')\n",
    "- Situation when the accident happened ('Onlksel')\n",
    "- Weekday when the accident happened ('Vkpv')\n",
    "- Role of alcohol in accidents? ('Alkoholi')\n",
    "\n",
    "<hr />"
   ]
  }
 ],
 "metadata": {
  "kernelspec": {
   "display_name": "Python 3",
   "language": "python",
   "name": "python3"
  },
  "language_info": {
   "codemirror_mode": {
    "name": "ipython",
    "version": 3
   },
   "file_extension": ".py",
   "mimetype": "text/x-python",
   "name": "python",
   "nbconvert_exporter": "python",
   "pygments_lexer": "ipython3",
   "version": "3.7.11"
  }
 },
 "nbformat": 4,
 "nbformat_minor": 5
}
